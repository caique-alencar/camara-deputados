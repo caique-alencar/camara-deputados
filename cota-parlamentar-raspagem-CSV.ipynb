{
 "cells": [
  {
   "cell_type": "code",
   "execution_count": 1,
   "metadata": {},
   "outputs": [
    {
     "name": "stdout",
     "output_type": "stream",
     "text": [
      "2008 pronto!\n",
      "2009 pronto!\n",
      "2010 pronto!\n",
      "2011 pronto!\n",
      "2012 pronto!\n",
      "2013 pronto!\n",
      "2014 pronto!\n",
      "2015 pronto!\n",
      "2016 pronto!\n",
      "2017 pronto!\n",
      "2018 pronto!\n",
      "2019 pronto!\n",
      "Terminei!\n"
     ]
    }
   ],
   "source": [
    "import os\n",
    "import shutil\n",
    "import glob\n",
    "from urllib.request import urlretrieve\n",
    "from zipfile import ZipFile\n",
    "from datetime import datetime\n",
    "\n",
    "# Define que o ano atual é o vigente\n",
    "ano_atual = datetime.now().year\n",
    "\n",
    "# Função que faz a raspagem dos dados\n",
    "def main():\n",
    "    # Se não existir, cria uma pasta para salvar os CSV raspados\n",
    "    if not os.path.exists('dados_camara_deputados'):\n",
    "        os.makedirs('dados_camara_deputados')\n",
    "\n",
    "    # Para cada ano de 2008 até o ano atual\n",
    "    for ano in range(2008, ano_atual + 1):\n",
    "        # Define a url do ano\n",
    "        url = (f'https://www.camara.leg.br/cotas/Ano-{ano}.csv.zip')\n",
    "        # Recupera o arquivo zip com base na url\n",
    "        urlretrieve(url, f'dados_camara_deputados/Ano-{ano}.csv.zip')\n",
    "        # Define o nome da variável do arquivo zip\n",
    "        zip_file = ZipFile(f'dados_camara_deputados/Ano-{ano}.csv.zip', 'r')\n",
    "        # Extrai o arquivo zip contido na variável\n",
    "        zip_file.extractall('dados_camara_deputados')\n",
    "        # Fecha o zip\n",
    "        zip_file.close()\n",
    "        # Descompacta o zip\n",
    "        os.remove(f'dados_camara_deputados/Ano-{ano}.csv.zip')\n",
    "        print(f\"{ano} pronto!\")\n",
    "\n",
    "    # Junta todos os CSVs em um único arquivo\n",
    "    todos = glob.glob('dados_camara_deputados/*.csv')\n",
    "    with open('dados_camara_deputados/camara_deputados_final.csv', 'wb') as saida:\n",
    "        for i, arquivo in enumerate(todos):\n",
    "            with open(arquivo, 'rb') as original:\n",
    "                if i != 0:\n",
    "                    original.readline()\n",
    "                shutil.copyfileobj(original, saida)\n",
    "\n",
    "# Chama a função main que faz a raspagem\n",
    "if __name__ == '__main__':\n",
    "    main()\n",
    "\n",
    "# Mensagem de aviso que o programa terminou de rodar\n",
    "print(\"Terminei!\")"
   ]
  },
  {
   "cell_type": "code",
   "execution_count": 15,
   "metadata": {},
   "outputs": [
    {
     "name": "stdout",
     "output_type": "stream",
     "text": [
      "Digite um ano a partir de 2008 ano que você quer consultar os gastos com cartão corporativo dos deputados: 2008\n",
      "\n",
      "Terminei!\n"
     ]
    }
   ],
   "source": [
    "# A diferença desse script é que ele pergunta qual ano o usuário deseja\n",
    "\n",
    "import os\n",
    "from urllib.request import urlretrieve\n",
    "from zipfile import ZipFile\n",
    "\n",
    "# Se não existir, cria uma pasta para salvar os CSV raspados\n",
    "if not os.path.exists('dados_camara_deputados'):\n",
    "    os.makedirs('dados_camara_deputados')\n",
    "\n",
    "# Pergunta o ano que o usuário quer saber\n",
    "ano = int(input(\"Digite um ano a partir de 2008 ano que você quer consultar os gastos com cartão corporativo dos deputados: \"))\n",
    "\n",
    "# Enquanto o ano for menor que 2008, ele vai pedir outro porque é o ano mais antigo dos dados\n",
    "while ano < 2008:\n",
    "    ano = int(input(\"Ano inválido! Tente novamente: \"))\n",
    "\n",
    "print()\n",
    "\n",
    "# Define a url do ano\n",
    "url = (f'https://www.camara.leg.br/cotas/Ano-{ano}.csv.zip')\n",
    "# Recupera o arquivo zip com base na url\n",
    "urlretrieve(url, f'dados_camara_deputados/Ano-{ano}.csv.zip')\n",
    "# Define o nome da variável do arquivo zip\n",
    "zip_file = ZipFile(f'dados_camara_deputados/Ano-{ano}.csv.zip', 'r')\n",
    "# Extrai o arquivo zip contido na variável\n",
    "zip_file.extractall('dados_camara_deputados')\n",
    "# Fecha o zip\n",
    "zip_file.close()\n",
    "# Descompacta o zip\n",
    "os.remove(f'dados_camara_deputados/Ano-{ano}.csv.zip')\n",
    "\n",
    "# Mensagem de aviso que o programa terminou de rodar\n",
    "print(\"Terminei!\")"
   ]
  },
  {
   "cell_type": "code",
   "execution_count": null,
   "metadata": {},
   "outputs": [],
   "source": []
  }
 ],
 "metadata": {
  "kernelspec": {
   "display_name": "Python 3",
   "language": "python",
   "name": "python3"
  },
  "language_info": {
   "codemirror_mode": {
    "name": "ipython",
    "version": 3
   },
   "file_extension": ".py",
   "mimetype": "text/x-python",
   "name": "python",
   "nbconvert_exporter": "python",
   "pygments_lexer": "ipython3",
   "version": "3.7.4"
  }
 },
 "nbformat": 4,
 "nbformat_minor": 2
}
