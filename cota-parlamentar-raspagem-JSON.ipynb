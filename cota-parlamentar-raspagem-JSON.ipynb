{
 "cells": [
  {
   "cell_type": "code",
   "execution_count": 1,
   "metadata": {},
   "outputs": [
    {
     "name": "stdout",
     "output_type": "stream",
     "text": [
      "Terminei!\n"
     ]
    }
   ],
   "source": [
    "import os\n",
    "from urllib.request import urlretrieve\n",
    "from zipfile import ZipFile\n",
    "from datetime import datetime\n",
    "\n",
    "# Define que o ano atual é o vigente\n",
    "ano_atual = datetime.now().year\n",
    "\n",
    "# Função que faz a raspagem dos dados\n",
    "def main():\n",
    "    # Se não existir, cria uma pasta para salvar os JSONs raspados\n",
    "    if not os.path.exists(\"dados_camara_deputados\"):\n",
    "        os.makedirs(\"dados_camara_deputados\")\n",
    "        \n",
    "    # Para cada ano de 2008 até o ano atual\n",
    "    for ano in range(2008, ano_atual + 1):\n",
    "        # Define a url do ano\n",
    "        url = (f\"https://www.camara.leg.br/cotas/Ano-{ano}.json.zip\")\n",
    "        # Recupera o arquivo zip com base na url\n",
    "        urlretrieve(url, f\"dados_camara_deputados/Ano-{ano}.json.zip\")\n",
    "        # Define o nome da variável do arquivo zip\n",
    "        arquivo_zip = ZipFile(f\"dados_camara_deputados/Ano-{ano}.json.zip\", \"r\")\n",
    "        # Extrai o arquivo zip contido na variável\n",
    "        arquivo_zip.extractall('dados_camara_deputados')\n",
    "        # Fecha o zip\n",
    "        arquivo_zip.close()\n",
    "        # Descompacta o zip\n",
    "        os.remove(f\"dados_camara_deputados/Ano-{ano}.json.zip\")\n",
    "        \n",
    "# Chama a função main que faz a raspagem\n",
    "if __name__ == '__main__':\n",
    "    main()\n",
    "\n",
    "# Mensagem de aviso que o programa terminou de rodar\n",
    "print(\"Terminei!\")"
   ]
  },
  {
   "cell_type": "code",
   "execution_count": null,
   "metadata": {},
   "outputs": [],
   "source": []
  }
 ],
 "metadata": {
  "kernelspec": {
   "display_name": "Python 3",
   "language": "python",
   "name": "python3"
  },
  "language_info": {
   "codemirror_mode": {
    "name": "ipython",
    "version": 3
   },
   "file_extension": ".py",
   "mimetype": "text/x-python",
   "name": "python",
   "nbconvert_exporter": "python",
   "pygments_lexer": "ipython3",
   "version": "3.7.4"
  }
 },
 "nbformat": 4,
 "nbformat_minor": 2
}
