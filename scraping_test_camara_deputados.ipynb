{
 "cells": [
  {
   "cell_type": "code",
   "execution_count": 3,
   "metadata": {},
   "outputs": [
    {
     "name": "stdout",
     "output_type": "stream",
     "text": [
      "{'dados': [{'id': 178957, 'uri': 'https://dadosabertos.camara.leg.br/api/v2/deputados/178957', 'nome': 'ABEL MESQUITA JR.', 'siglaPartido': 'DEM', 'uriPartido': 'https://dadosabertos.camara.leg.br/api/v2/partidos/36769', 'siglaUf': 'RR', 'idLegislatura': 55, 'urlFoto': 'http://www.camara.leg.br/internet/deputado/bandep/178957.jpg'}, {'id': 178864, 'uri': 'https://dadosabertos.camara.leg.br/api/v2/deputados/178864', 'nome': 'ADAIL CARNEIRO', 'siglaPartido': 'PODE', 'uriPartido': 'https://dadosabertos.camara.leg.br/api/v2/partidos/36896', 'siglaUf': 'CE', 'idLegislatura': 55, 'urlFoto': 'http://www.camara.leg.br/internet/deputado/bandep/178864.jpg'}, {'id': 178914, 'uri': 'https://dadosabertos.camara.leg.br/api/v2/deputados/178914', 'nome': 'ADALBERTO CAVALCANTI', 'siglaPartido': 'AVANTE', 'uriPartido': 'https://dadosabertos.camara.leg.br/api/v2/partidos/36898', 'siglaUf': 'PE', 'idLegislatura': 55, 'urlFoto': 'http://www.camara.leg.br/internet/deputado/bandep/178914.jpg'}, {'id': 178890, 'uri': 'https://dadosabertos.camara.leg.br/api/v2/deputados/178890', 'nome': 'ADELMO CARNEIRO LEÃO', 'siglaPartido': 'PT', 'uriPartido': 'https://dadosabertos.camara.leg.br/api/v2/partidos/36844', 'siglaUf': 'MG', 'idLegislatura': 55, 'urlFoto': 'http://www.camara.leg.br/internet/deputado/bandep/178890.jpg'}, {'id': 178968, 'uri': 'https://dadosabertos.camara.leg.br/api/v2/deputados/178968', 'nome': 'ADELSON BARRETO', 'siglaPartido': 'PR', 'uriPartido': 'https://dadosabertos.camara.leg.br/api/v2/partidos/36814', 'siglaUf': 'SE', 'idLegislatura': 55, 'urlFoto': 'http://www.camara.leg.br/internet/deputado/bandep/178968.jpg'}, {'id': 178903, 'uri': 'https://dadosabertos.camara.leg.br/api/v2/deputados/178903', 'nome': 'ADILTON SACHETTI', 'siglaPartido': 'PRB', 'uriPartido': 'https://dadosabertos.camara.leg.br/api/v2/partidos/36815', 'siglaUf': 'MT', 'idLegislatura': 55, 'urlFoto': 'http://www.camara.leg.br/internet/deputado/bandep/178903.jpg'}, {'id': 141372, 'uri': 'https://dadosabertos.camara.leg.br/api/v2/deputados/141372', 'nome': 'AELTON FREITAS', 'siglaPartido': 'PR', 'uriPartido': 'https://dadosabertos.camara.leg.br/api/v2/partidos/36814', 'siglaUf': 'MG', 'idLegislatura': 55, 'urlFoto': 'http://www.camara.leg.br/internet/deputado/bandep/141372.jpg'}, {'id': 160508, 'uri': 'https://dadosabertos.camara.leg.br/api/v2/deputados/160508', 'nome': 'AFONSO FLORENCE', 'siglaPartido': 'PT', 'uriPartido': 'https://dadosabertos.camara.leg.br/api/v2/partidos/36844', 'siglaUf': 'BA', 'idLegislatura': 55, 'urlFoto': 'http://www.camara.leg.br/internet/deputado/bandep/160508.jpg'}, {'id': 136811, 'uri': 'https://dadosabertos.camara.leg.br/api/v2/deputados/136811', 'nome': 'AFONSO HAMM', 'siglaPartido': 'PP', 'uriPartido': 'https://dadosabertos.camara.leg.br/api/v2/partidos/37903', 'siglaUf': 'RS', 'idLegislatura': 55, 'urlFoto': 'http://www.camara.leg.br/internet/deputado/bandep/136811.jpg'}, {'id': 178835, 'uri': 'https://dadosabertos.camara.leg.br/api/v2/deputados/178835', 'nome': 'AFONSO MOTTA', 'siglaPartido': 'PDT', 'uriPartido': 'https://dadosabertos.camara.leg.br/api/v2/partidos/36786', 'siglaUf': 'RS', 'idLegislatura': 55, 'urlFoto': 'http://www.camara.leg.br/internet/deputado/bandep/178835.jpg'}, {'id': 160527, 'uri': 'https://dadosabertos.camara.leg.br/api/v2/deputados/160527', 'nome': 'AGUINALDO RIBEIRO', 'siglaPartido': 'PP', 'uriPartido': 'https://dadosabertos.camara.leg.br/api/v2/partidos/37903', 'siglaUf': 'PB', 'idLegislatura': 55, 'urlFoto': 'http://www.camara.leg.br/internet/deputado/bandep/160527.jpg'}, {'id': 178836, 'uri': 'https://dadosabertos.camara.leg.br/api/v2/deputados/178836', 'nome': 'ALAN RICK', 'siglaPartido': 'DEM', 'uriPartido': 'https://dadosabertos.camara.leg.br/api/v2/partidos/36769', 'siglaUf': 'AC', 'idLegislatura': 55, 'urlFoto': 'http://www.camara.leg.br/internet/deputado/bandep/178836.jpg'}, {'id': 160582, 'uri': 'https://dadosabertos.camara.leg.br/api/v2/deputados/160582', 'nome': 'ALBERTO FILHO', 'siglaPartido': 'PP', 'uriPartido': 'https://dadosabertos.camara.leg.br/api/v2/partidos/37903', 'siglaUf': 'MA', 'idLegislatura': 55, 'urlFoto': 'http://www.camara.leg.br/internet/deputado/bandep/160582.jpg'}, {'id': 73579, 'uri': 'https://dadosabertos.camara.leg.br/api/v2/deputados/73579', 'nome': 'ALBERTO FRAGA', 'siglaPartido': 'DEM', 'uriPartido': 'https://dadosabertos.camara.leg.br/api/v2/partidos/36769', 'siglaUf': 'DF', 'idLegislatura': 55, 'urlFoto': 'http://www.camara.leg.br/internet/deputado/bandep/73579.jpg'}, {'id': 160559, 'uri': 'https://dadosabertos.camara.leg.br/api/v2/deputados/160559', 'nome': 'ALCEU MOREIRA', 'siglaPartido': 'MDB', 'uriPartido': 'https://dadosabertos.camara.leg.br/api/v2/partidos/36899', 'siglaUf': 'RS', 'idLegislatura': 55, 'urlFoto': 'http://www.camara.leg.br/internet/deputado/bandep/160559.jpg'}], 'links': [{'rel': 'self', 'href': 'https://dadosabertos.camara.leg.br/api/v2/deputados?formato=json'}, {'rel': 'next', 'href': 'https://dadosabertos.camara.leg.br/api/v2/deputados?formato=json&pagina=2&itens=15'}, {'rel': 'first', 'href': 'https://dadosabertos.camara.leg.br/api/v2/deputados?formato=json&pagina=1&itens=15'}, {'rel': 'last', 'href': 'https://dadosabertos.camara.leg.br/api/v2/deputados?formato=json&pagina=35&itens=15'}]}\n"
     ]
    }
   ],
   "source": [
    "import requests\n",
    "\n",
    "url = \"https://dadosabertos.camara.leg.br/api/v2/deputados\"\n",
    "parametros = {\"formato\": \"json\"}\n",
    "resposta = requests.get(url, parametros)\n",
    "print(resposta.json())"
   ]
  },
  {
   "cell_type": "code",
   "execution_count": 1,
   "metadata": {},
   "outputs": [
    {
     "name": "stdout",
     "output_type": "stream",
     "text": [
      "1\n",
      "2\n",
      "3\n",
      "4\n",
      "5\n",
      "6\n",
      "513\n"
     ]
    }
   ],
   "source": [
    "import requests\n",
    "\n",
    "url = \"https://dadosabertos.camara.leg.br/api/v2/deputados\"\n",
    "deputados =[]\n",
    "\n",
    "for pagina in [1, 2, 3, 4, 5, 6]:\n",
    "    print(pagina)\n",
    "    parametros = {\"formato\": \"json\", \"itens\": 100, \"pagina\": pagina}\n",
    "    resposta = requests.get(url, parametros)\n",
    "    for deputado in resposta.json()[\"dados\"]:\n",
    "            deputados.append(deputado[\"nome\"])\n",
    "\n",
    "print(len(deputados))"
   ]
  },
  {
   "cell_type": "code",
   "execution_count": null,
   "metadata": {},
   "outputs": [],
   "source": []
  }
 ],
 "metadata": {
  "kernelspec": {
   "display_name": "Python 3",
   "language": "python",
   "name": "python3"
  },
  "language_info": {
   "codemirror_mode": {
    "name": "ipython",
    "version": 3
   },
   "file_extension": ".py",
   "mimetype": "text/x-python",
   "name": "python",
   "nbconvert_exporter": "python",
   "pygments_lexer": "ipython3",
   "version": "3.6.4"
  }
 },
 "nbformat": 4,
 "nbformat_minor": 2
}
