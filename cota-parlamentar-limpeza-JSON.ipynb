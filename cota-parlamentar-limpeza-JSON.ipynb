{
 "cells": [
  {
   "cell_type": "code",
   "execution_count": 2,
   "metadata": {},
   "outputs": [
    {
     "name": "stdout",
     "output_type": "stream",
     "text": [
      "{'nomeParlamentar': 'JOSEPH BANDEIRA', 'idDeputado': 4929, 'numeroCarteiraParlamentar': '565', 'legislatura': 2007, 'siglaUF': 'BA', 'siglaPartido': 'PT', 'codigoLegislatura': 53, 'numeroSubCota': 2, 'descricao': 'LOCOMOÇÃO, ALIMENTAÇÃO E  HOSPEDAGEM', 'numeroEspecificacaoSubCota': 0, 'descricaoEspecificacao': '', 'fornecedor': 'NACIONAL TRANSPORTES E LOGISTICA', 'cnpjCPF': '071.414.740/0010-0 ', 'numero': '01029', 'tipoDocumento': '0', 'dataEmissao': '2009-06-18T00:00:00', 'valorDocumento': '3800', 'valorGlosa': '0', 'valorLiquido': '3800', 'mes': 6, 'ano': 2008, 'parcela': 0, 'passageiro': '', 'trecho': '', 'lote': '405260', 'ressarcimento': '', 'restituicao': '', 'numeroDeputadoID': 1970, 'idDocumento': 1612380}\n",
      "\n"
     ]
    }
   ],
   "source": [
    "# Antes de rodar esse código, executar o comando abaixo no cmd\n",
    "# jupyter notebook --NotebookApp.iopub_data_rate_limit=10000000000\n",
    "\n",
    "import json\n",
    "import pandas\n",
    "\n",
    "# Substituir esse valor de acordo com o ano desejado\n",
    "ano = 2008\n",
    "\n",
    "# Abre o JSON com base no ano\n",
    "with open(f\"dados_camara_deputados/Ano-{ano}.json\", encoding=\"utf-8\") as json_file:\n",
    "    json_data = json.load(json_file)\n",
    "    sopa = json_data[\"dados\"]\n",
    "\n",
    "# Mostra só a primeira linha de conteúdo pra ver o que tem na tabela\n",
    "cont = 0\n",
    "while cont < 1:\n",
    "    print(sopa[cont])\n",
    "    print()\n",
    "    cont =+ 1"
   ]
  },
  {
   "cell_type": "code",
   "execution_count": 3,
   "metadata": {},
   "outputs": [],
   "source": [
    "# Pega só os dados que interessam e transforma em um dataframe\n",
    "cont = 0\n",
    "planilha = []\n",
    "\n",
    "while cont < len(sopa):\n",
    "    dicionario = sopa[cont]\n",
    "    nome = dicionario[\"nomeParlamentar\"]\n",
    "    partido = dicionario[\"siglaPartido\"]\n",
    "    tipo_gasto = dicionario[\"descricao\"]\n",
    "    valor = dicionario[\"valorLiquido\"]\n",
    "    valor = float(valor)\n",
    "    ano = dicionario[\"ano\"]\n",
    "    mes = dicionario[\"mes\"]\n",
    "    cont += 1\n",
    "    \n",
    "    gasto = {\"nome_parlamentar\": nome, \"partido\": partido, \"tipo_gasto\": tipo_gasto, \"valor\": valor, \"ano\": ano, \"mes\": mes}\n",
    "    planilha.append(gasto)\n",
    "\n",
    "df = pandas.DataFrame(planilha)"
   ]
  },
  {
   "cell_type": "code",
   "execution_count": 4,
   "metadata": {},
   "outputs": [
    {
     "name": "stdout",
     "output_type": "stream",
     "text": [
      "nome_parlamentar\n",
      "ABELARDO CAMARINHA      468.64\n",
      "ABELARDO LUPION          90.17\n",
      "ADEMIR CAMILO           523.02\n",
      "ADÃO PRETTO             122.53\n",
      "AELTON FREITAS          708.21\n",
      "                        ...   \n",
      "ZONTA                    50.68\n",
      "ZÉ GERALDO            13556.84\n",
      "ÁTILA LINS              446.05\n",
      "ÁTILA LIRA              412.48\n",
      "ÍRIS DE ARAÚJO          293.72\n",
      "Name: valor, Length: 217, dtype: float64\n"
     ]
    }
   ],
   "source": [
    "# Soma os gastos de cada parlamentar e imprime\n",
    "soma_gastos = df.groupby('nome_parlamentar')['valor'].sum()\n",
    "print(soma_gastos)"
   ]
  },
  {
   "cell_type": "code",
   "execution_count": 6,
   "metadata": {},
   "outputs": [
    {
     "name": "stderr",
     "output_type": "stream",
     "text": [
      "c:\\users\\cpunova\\appdata\\local\\programs\\python\\python37-32\\lib\\site-packages\\ipykernel_launcher.py:4: FutureWarning: The signature of `Series.to_csv` was aligned to that of `DataFrame.to_csv`, and argument 'header' will change its default value from False to True: please pass an explicit value to suppress this warning.\n",
      "  after removing the cwd from sys.path.\n"
     ]
    }
   ],
   "source": [
    "# Cria csv\n",
    "# O parãmetro float_format tira o ponto separador das casas de milhar e usa ponto para separar casas decimais\n",
    "# É bom sempre usar para corrigir bugs com o formato de float64 nos dataframes\n",
    "soma_gastos.to_csv(\"dados_camara_deputados/gastos_%s.csv\" % ano, sep=\";\", encoding='utf-8', float_format='%.2f')"
   ]
  },
  {
   "cell_type": "code",
   "execution_count": null,
   "metadata": {},
   "outputs": [],
   "source": []
  }
 ],
 "metadata": {
  "kernelspec": {
   "display_name": "Python 3",
   "language": "python",
   "name": "python3"
  },
  "language_info": {
   "codemirror_mode": {
    "name": "ipython",
    "version": 3
   },
   "file_extension": ".py",
   "mimetype": "text/x-python",
   "name": "python",
   "nbconvert_exporter": "python",
   "pygments_lexer": "ipython3",
   "version": "3.7.4"
  }
 },
 "nbformat": 4,
 "nbformat_minor": 2
}
