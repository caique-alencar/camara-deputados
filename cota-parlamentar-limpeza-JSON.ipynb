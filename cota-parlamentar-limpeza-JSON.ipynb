{
 "cells": [
  {
   "cell_type": "code",
   "execution_count": 16,
   "metadata": {},
   "outputs": [
    {
     "name": "stdout",
     "output_type": "stream",
     "text": [
      "{'nomeParlamentar': 'ABELARDO CAMARINHA', 'idDeputado': 141463, 'numeroCarteiraParlamentar': '329', 'legislatura': 2011, 'siglaUF': 'SP', 'siglaPartido': 'PSB', 'codigoLegislatura': 54, 'numeroSubCota': 10, 'descricao': 'TELEFONIA', 'numeroEspecificacaoSubCota': 0, 'descricaoEspecificacao': '', 'fornecedor': 'IMÓVEL FUNCIONAL', 'cnpjCPF': '000.000.000/0000-3 ', 'numero': '3952163', 'tipoDocumento': '0', 'dataEmissao': '2008-12-01T00:00:00', 'valorDocumento': '468.64', 'valorGlosa': '0', 'valorLiquido': '468.64', 'mes': 12, 'ano': 2008, 'parcela': 0, 'passageiro': '', 'trecho': '', 'lote': '0', 'ressarcimento': '0', 'restituicao': '', 'numeroDeputadoID': 1772, 'idDocumento': 0}\n",
      "\n"
     ]
    }
   ],
   "source": [
    "# Antes de rodar esse código, executar o comando abaixo no cmd\n",
    "# jupyter notebook --NotebookApp.iopub_data_rate_limit=10000000000\n",
    "\n",
    "import json\n",
    "import pandas\n",
    "\n",
    "# Substituir esse valor de acordo com o ano desejado\n",
    "ano = 2008\n",
    "\n",
    "# Abre o JSON com base no ano\n",
    "with open(f\"dados_camara_deputados/Ano-{ano}.json\", encoding=\"utf-8\") as json_file:\n",
    "    json_data = json.load(json_file)\n",
    "    sopa = json_data[\"dados\"]\n",
    "\n",
    "# Mostra só a primeira linha de conteúdo pra ver o que tem na tabela\n",
    "cont = 0\n",
    "while cont < 1:\n",
    "    print(sopa[cont])\n",
    "    print()\n",
    "    cont =+ 1"
   ]
  },
  {
   "cell_type": "code",
   "execution_count": 17,
   "metadata": {},
   "outputs": [],
   "source": [
    "# Pega só os dados que interessam e transforma em um dataframe\n",
    "cont = 0\n",
    "planilha = []\n",
    "\n",
    "while cont < len(sopa):\n",
    "    dicionario = sopa[cont]\n",
    "    nome = dicionario[\"nomeParlamentar\"]\n",
    "    partido = dicionario[\"siglaPartido\"]\n",
    "    tipo_gasto = dicionario[\"descricao\"]\n",
    "    valor = dicionario[\"valorLiquido\"]\n",
    "    valor = float(valor)\n",
    "    ano = dicionario[\"ano\"]\n",
    "    mes = dicionario[\"mes\"]\n",
    "    cont += 1\n",
    "    \n",
    "    gasto = {\"nome_parlamentar\": nome, \"partido\": partido, \"tipo_gasto\": tipo_gasto, \"valor\": valor, \"ano\": ano, \"mes\": mes}\n",
    "    planilha.append(gasto)\n",
    "\n",
    "df = pandas.DataFrame(planilha)"
   ]
  },
  {
   "cell_type": "code",
   "execution_count": 14,
   "metadata": {},
   "outputs": [
    {
     "name": "stdout",
     "output_type": "stream",
     "text": [
      "nome_parlamentar\n",
      "ABELARDO CAMARINHA               468.64\n",
      "ABELARDO LUPION                   90.17\n",
      "ADEMIR CAMILO                    523.02\n",
      "ADÃO PRETTO                      122.53\n",
      "AELTON FREITAS                   708.21\n",
      "AIRTON ROVEDA                    171.43\n",
      "ALCENI GUERRA                    233.68\n",
      "ALDO REBELO                      372.55\n",
      "ALFREDO KAEFER                     1.31\n",
      "ALINE CORRÊA                    1154.13\n",
      "ANA ARRAES                       251.37\n",
      "ANDREIA ZITO                      91.39\n",
      "ANGELO VANHONI                   988.10\n",
      "ANTONIO CARLOS MENDES THAME      158.90\n",
      "ANTONIO CARLOS PANNUNZIO          53.69\n",
      "ANTONIO CRUZ                     196.75\n",
      "ANTÔNIO ROBERTO                  166.44\n",
      "ANÍBAL GOMES                       2.07\n",
      "ARACELY DE PAULA                 565.64\n",
      "ARMANDO MONTEIRO                 273.08\n",
      "ARNALDO FARIA DE SÁ               31.57\n",
      "ARNALDO JARDIM                    54.53\n",
      "ARNALDO VIANNA                   292.05\n",
      "ASDRUBAL BENTES                  357.74\n",
      "BARBOSA NETO                     672.29\n",
      "BEL MESQUITA                     275.08\n",
      "BENEDITO DE LIRA                 407.51\n",
      "BERNARDO ARISTON                 437.57\n",
      "BETINHO ROSADO                    72.16\n",
      "BETO FARO                        371.22\n",
      "                                 ...   \n",
      "SOLANGE ALMEIDA                  519.56\n",
      "SUELI VIDIGAL                    683.72\n",
      "SUELY                            131.89\n",
      "SÉRGIO BRITO                      18.56\n",
      "SÉRGIO MORAES                    224.18\n",
      "THELMA DE OLIVEIRA               127.48\n",
      "URZENI ROCHA                      95.00\n",
      "VADÃO GOMES                      804.35\n",
      "VALADARES FILHO                   92.45\n",
      "VALDEMAR COSTA NETO              344.52\n",
      "VALDIR COLATTO                 18337.86\n",
      "VANDER LOUBET                    390.41\n",
      "VELOSO                           334.78\n",
      "VICENTE ARRUDA                   173.30\n",
      "VICENTINHO                       486.94\n",
      "VICENTINHO ALVES                 407.99\n",
      "VILSON COVATTI                   306.34\n",
      "VINICIUS CARVALHO                477.64\n",
      "VITAL DO REGO FILHO              794.05\n",
      "WALDEMIR MOKA                    220.46\n",
      "WELLINGTON FAGUNDES              432.26\n",
      "WELLINGTON ROBERTO              1000.00\n",
      "WOLNEY QUEIROZ                   280.25\n",
      "ZEQUINHA MARINHO                 372.83\n",
      "ZEZÉU RIBEIRO                    322.35\n",
      "ZONTA                             50.68\n",
      "ZÉ GERALDO                     13556.84\n",
      "ÁTILA LINS                       446.05\n",
      "ÁTILA LIRA                       412.48\n",
      "ÍRIS DE ARAÚJO                   293.72\n",
      "Name: valor, Length: 217, dtype: float64\n"
     ]
    }
   ],
   "source": [
    "# Soma os gastos de cada parlamentar e imprime\n",
    "soma_gastos = df.groupby('nome_parlamentar')['valor'].sum()\n",
    "print(soma_gastos)"
   ]
  },
  {
   "cell_type": "code",
   "execution_count": 18,
   "metadata": {},
   "outputs": [],
   "source": [
    "# Cria csv\n",
    "# O parãmetro float_format tira o ponto separador das casas de milhar e usa ponto para separar casas decimais\n",
    "# É bom sempre usar para corrigir bugs com o formato de float64 nos dataframes\n",
    "soma_gastos.to_csv(\"dados_camara_deputados/gastos_%s.csv\" % ano, sep=\";\", encoding='utf-8', float_format='%.2f')"
   ]
  },
  {
   "cell_type": "code",
   "execution_count": null,
   "metadata": {},
   "outputs": [],
   "source": []
  }
 ],
 "metadata": {
  "kernelspec": {
   "display_name": "Python 3",
   "language": "python",
   "name": "python3"
  },
  "language_info": {
   "codemirror_mode": {
    "name": "ipython",
    "version": 3
   },
   "file_extension": ".py",
   "mimetype": "text/x-python",
   "name": "python",
   "nbconvert_exporter": "python",
   "pygments_lexer": "ipython3",
   "version": "3.6.4"
  }
 },
 "nbformat": 4,
 "nbformat_minor": 2
}
